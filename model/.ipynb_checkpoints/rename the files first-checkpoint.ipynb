{
 "cells": [
  {
   "cell_type": "code",
   "execution_count": 1,
   "id": "4bc617f0",
   "metadata": {},
   "outputs": [],
   "source": [
    "import pathlib"
   ]
  },
  {
   "cell_type": "code",
   "execution_count": 10,
   "id": "8609bedd",
   "metadata": {},
   "outputs": [],
   "source": [
    "def rename_leaders():\n",
    "    path = pathlib.Path('.') / \"datasets\"\n",
    "    for folder in path.iterdir():\n",
    "        if  folder.is_dir():\n",
    "            counter = 1\n",
    "            for file in folder.iterdir():\n",
    "                if file.is_file():\n",
    "                    new_file = folder.name+ str(counter)+ \".png\"\n",
    "                    file.rename(path / folder.name / new_file)\n",
    "                    counter += 1"
   ]
  },
  {
   "cell_type": "code",
   "execution_count": null,
   "id": "2f59baf7",
   "metadata": {},
   "outputs": [],
   "source": [
    "if __name__ == \"__main__\":\n",
    "    rename_leaders()"
   ]
  }
 ],
 "metadata": {
  "kernelspec": {
   "display_name": "Python 3 (ipykernel)",
   "language": "python",
   "name": "python3"
  },
  "language_info": {
   "codemirror_mode": {
    "name": "ipython",
    "version": 3
   },
   "file_extension": ".py",
   "mimetype": "text/x-python",
   "name": "python",
   "nbconvert_exporter": "python",
   "pygments_lexer": "ipython3",
   "version": "3.9.9"
  }
 },
 "nbformat": 4,
 "nbformat_minor": 5
}
